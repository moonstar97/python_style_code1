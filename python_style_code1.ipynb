{
 "cells": [
  {
   "cell_type": "markdown",
   "metadata": {},
   "source": [
    "# 일반문제\n",
    "\n",
    "\n",
    "## 1. Css selector 수정\n",
    "\n",
    "Css Selector는 웹 페이지에서 특정 요소를 선택하기 위해 해당 요소까지 찾아갈 수 있도록 해주는 주소와 같은 것이다. 대부분의 웹브라우져에서 는 해당 요소에 대한 css selector 값을 쉽게 얻어올 수 있다 (F12 > Select an Element). 다음과 같은 selector가 있다고 한다.\n",
    "\n",
    "#today_main_news > div.hdline_news > ul > li:nth-child(1)\n",
    "\n",
    "이러한 selector를 웹크롤링에서 사용하기 위해서는 :nth-child라는 부분을 제거하는 작업이 필요한데, 이를 자동화 해보자.\n",
    "\n",
    "Q: 해당 Selector를 문자열로 표시하고, split과 join 함수를 활용하여 다음 예시와 같은 selector를 출력하시오.\n",
    "\n",
    "### 출력결과 예시\n",
    "\n",
    "selector = \"#today_main_news > div.hdline_news > ul > li:nth-child(1)\"\n",
    "\n",
    "\n",
    "CODE\n",
    "\n",
    "'#today_main_news  >  div.hdline_news  >  ul  >  li'"
   ]
  },
  {
   "cell_type": "code",
   "execution_count": 1,
   "metadata": {},
   "outputs": [
    {
     "data": {
      "text/plain": [
       "'#today_main_news  >  div.hdline_news  >  ul  >  li'"
      ]
     },
     "execution_count": 1,
     "metadata": {},
     "output_type": "execute_result"
    }
   ],
   "source": [
    "# selector를 문자열로 표시\n",
    "selector = \"#today_main_news > div.hdline_news > ul > li:nth-child(1)\" \n",
    "\n",
    "# 구분자(\">\")로 구분된 리스트 생성\n",
    "selector_list = selector.split(\">\")\n",
    "\n",
    "# 제외할 부분(li:nth-child(1)) 선택해서 구분자(\":\")로 나누고 나눠진 부분에서 필요한 부분(ni)만 추출\n",
    "selector_list[-1] = selector_list[-1].split(\":\")[0]\n",
    "\n",
    "# 구분자를 기준으로 문자열로 합침\n",
    "\" > \".join(selector_list)"
   ]
  },
  {
   "cell_type": "markdown",
   "metadata": {},
   "source": [
    "## 2. list comprehension으로 만드는 구구단\n",
    "\n",
    "Q: list comprehension을 사용하여 구구단을 연산하는 함수 gugu_com을 작성하고 구구단 7단을 출력하시오."
   ]
  },
  {
   "cell_type": "code",
   "execution_count": 16,
   "metadata": {},
   "outputs": [
    {
     "name": "stdout",
     "output_type": "stream",
     "text": [
      "7 x 1 = 7\n",
      "7 x 2 = 14\n",
      "7 x 3 = 21\n",
      "7 x 4 = 28\n",
      "7 x 5 = 35\n",
      "7 x 6 = 42\n",
      "7 x 7 = 49\n",
      "7 x 8 = 56\n",
      "7 x 9 = 63\n"
     ]
    }
   ],
   "source": [
    "# 구구단 연산 함수 작성\n",
    "def gugu_com(x):\n",
    "    [print(f\"{x} x {i} = {x*i}\") for i in range(1, 10)] # x는 gugu_com에서 받은 인수, i에는 1~9까지 넣어서 출력(딕셔너리)\n",
    "\n",
    "# 구구단 7단 출력\n",
    "gugu_com(7)"
   ]
  },
  {
   "cell_type": "markdown",
   "metadata": {},
   "source": [
    "## 3. 두 주사위의 곱\n",
    "\n",
    "Q: list comprehension을 사용하여 한줄의 코드로 두 주사위의 곱의 결과를 가지는 이차원 리스트를 만드시오.(한개의 주사위 표현을 제외하고 한줄)"
   ]
  },
  {
   "cell_type": "code",
   "execution_count": 17,
   "metadata": {},
   "outputs": [
    {
     "data": {
      "text/plain": [
       "[[1, 2, 3, 4, 5, 6],\n",
       " [2, 4, 6, 8, 10, 12],\n",
       " [3, 6, 9, 12, 15, 18],\n",
       " [4, 8, 12, 16, 20, 24],\n",
       " [5, 10, 15, 20, 25, 30],\n",
       " [6, 12, 18, 24, 30, 36]]"
      ]
     },
     "execution_count": 17,
     "metadata": {},
     "output_type": "execute_result"
    }
   ],
   "source": [
    "# 주사위 하나를 표현하기 위한 die 변수 생성\n",
    "die = [i for i in range(1,7)]\n",
    "\n",
    "# 이차원 리스트를 생성\n",
    "[[j*i for i in die] for j in die] # 대괄호를 하나 더 붙여서 뒤의 for문을 고정시키고 앞의 for문이 뒤에 차례로 붙도록 한다\n"
   ]
  },
  {
   "cell_type": "markdown",
   "metadata": {},
   "source": [
    "## 4. 두 주사위의 합\n",
    "\n",
    "Q: 두 주사위의 합을 6 x 6 크기의 2차원 리스트로 생성하고, 인덱싱을 통해 2 + 6의 값을 2가지 방법으로 나타내시오. (2차원 리스트 생성시 방법의 제한은 없음)"
   ]
  },
  {
   "cell_type": "code",
   "execution_count": 13,
   "metadata": {},
   "outputs": [
    {
     "name": "stdout",
     "output_type": "stream",
     "text": [
      "8\n",
      "8\n"
     ]
    }
   ],
   "source": [
    "# 방법 1\n",
    "dice_sum = [[2, 3, 4, 5, 6, 7],\n",
    "            [3, 4, 5, 6, 7, 8],\n",
    "            [4, 5, 6, 7, 8, 9],\n",
    "            [5, 6, 7, 8, 9, 10],\n",
    "            [6, 7, 8, 9, 10, 11],\n",
    "            [7, 8, 9, 10, 11, 12]] # 2차원 리스트 수동으로 생성\n",
    "\n",
    "# 인덱싱으로 리스트에서 2+6 출력\n",
    "print(dice_sum[1][5])\n",
    "print(dice_sum[5][1])"
   ]
  },
  {
   "cell_type": "code",
   "execution_count": 15,
   "metadata": {},
   "outputs": [
    {
     "name": "stdout",
     "output_type": "stream",
     "text": [
      "8\n",
      "8\n"
     ]
    }
   ],
   "source": [
    "# 방법 2\n",
    "# 앞서 사용한 list comprehension을 이용해 이차원 리스트 생성\n",
    "die = [i for i in range(1,7)]\n",
    "\n",
    "dice_sum = [[j+i for i in die] for j in die]\n",
    "\n",
    "# 인덱싱으로 리스트에서 2+6 출력\n",
    "print(dice_sum[1][5])\n",
    "print(dice_sum[5][1])"
   ]
  },
  {
   "cell_type": "markdown",
   "metadata": {},
   "source": [
    "## 표절 검사 프로그램\n",
    "아주대학교 글로벌 경영학과의 한 교수님은 과제의 표절 검사를 쉽게 하기 위해 Python을 통한 간단한 표절 검사 프로그램을 작성해보고자 한다.\n",
    "\n",
    "현재 구상 중인 프로그램은 복잡한 알고리즘을 필요로하지 않고, 간단하게 단어 빈도를 기반으로 하여, 그 유사도를 측정하고자한다.\n",
    "\n",
    "+ 텍스트 예시"
   ]
  },
  {
   "cell_type": "code",
   "execution_count": 7,
   "metadata": {},
   "outputs": [],
   "source": [
    "from collections import defaultdict, Counter\n",
    "\n",
    "text = \"\"\"Python is a very simple programming language so even if you are new to programming, you can learn python without facing any issues.\"\"\"\n",
    "\n",
    "text2 = \"\"\"C is a very difficult programming language so even if you are good at programming, you can learn c with facing any issues.\"\"\"\n",
    "\n",
    "text3 = \"\"\"R Programming is good at statistical analysis. you can learn easily\"\"\""
   ]
  },
  {
   "cell_type": "markdown",
   "metadata": {},
   "source": [
    "### 문제 1\n",
    "\n",
    "Q: defaultdict를 활용하여 text를 입력받으면 단어별 빈도를 측정하여 반환하는 함수 word_counter를 만드시오."
   ]
  },
  {
   "cell_type": "code",
   "execution_count": 8,
   "metadata": {},
   "outputs": [],
   "source": [
    "# 단어별 빈도 측정 함수 작성\n",
    "# defaultdict는 단순한 dict와 다르게, 인덱싱에서 key 값이 없으면 오류가 아닌 0을 기본 값으로 가지게 한다.\n",
    "def word_counter(text):\n",
    "    word_count = defaultdict(lambda: 0) # 인덱싱에서 key 값이 없으면 0을 기본 값으로 가지게 하기 위해 lamda 함수 사용\n",
    "    for word in text.lower().split(): # split()으로 문장을 단어별로 분할, 분석의 편의를 위해 lower()으로 소문자로 변경\n",
    "        word_count[word] += 1 # 단어 출현 시 +1\n",
    "        \n",
    "    return word_count # 단어의 최종 빈도를 return"
   ]
  },
  {
   "cell_type": "code",
   "execution_count": 9,
   "metadata": {},
   "outputs": [
    {
     "data": {
      "text/plain": [
       "defaultdict(<function __main__.word_counter.<locals>.<lambda>()>,\n",
       "            {'python': 2,\n",
       "             'is': 1,\n",
       "             'a': 1,\n",
       "             'very': 1,\n",
       "             'simple': 1,\n",
       "             'programming': 1,\n",
       "             'language': 1,\n",
       "             'so': 1,\n",
       "             'even': 1,\n",
       "             'if': 1,\n",
       "             'you': 2,\n",
       "             'are': 1,\n",
       "             'new': 1,\n",
       "             'to': 1,\n",
       "             'programming,': 1,\n",
       "             'can': 1,\n",
       "             'learn': 1,\n",
       "             'without': 1,\n",
       "             'facing': 1,\n",
       "             'any': 1,\n",
       "             'issues.': 1})"
      ]
     },
     "execution_count": 9,
     "metadata": {},
     "output_type": "execute_result"
    }
   ],
   "source": [
    "word_counter(text)"
   ]
  },
  {
   "cell_type": "markdown",
   "metadata": {},
   "source": [
    "### 문제 2\n",
    "\n",
    "Q: 도전문제 1의 word_counter 활용하여 text와 text2의 유사도와 text와 text3의 유사도를 구하시오."
   ]
  },
  {
   "cell_type": "code",
   "execution_count": 10,
   "metadata": {},
   "outputs": [],
   "source": [
    "# 텍스트 간 유사도 구하는 함수 작성\n",
    "def text_similarity(text_count_1, text_count_2):\n",
    "    text1_count = Counter(text_count_1) # collection 모듈의 counter 클래스 사용하여 텍스트의 각 알파벳 개수를 세어줌\n",
    "    text2_count = Counter(text_count_2)\n",
    "    \n",
    "    word_total = sum(text1_count.values()) # 딕셔너리 자료 text1_count에서 value값만을 더함(key 제외)\n",
    "    word_diff = sum((text1_count - text2_count).values()) # text1_count-text2_count에서 value값만을 더함\n",
    "    \n",
    "    return (1 - word_diff / word_total) * 100 # 유사도(%)를 구해서 return"
   ]
  },
  {
   "cell_type": "code",
   "execution_count": 11,
   "metadata": {},
   "outputs": [
    {
     "data": {
      "text/plain": [
       "73.91304347826086"
      ]
     },
     "execution_count": 11,
     "metadata": {},
     "output_type": "execute_result"
    }
   ],
   "source": [
    "# text와 text2의 유사도\n",
    "text_similarity(word_counter(text), word_counter(text2))"
   ]
  },
  {
   "cell_type": "code",
   "execution_count": 12,
   "metadata": {},
   "outputs": [
    {
     "data": {
      "text/plain": [
       "21.739130434782606"
      ]
     },
     "execution_count": 12,
     "metadata": {},
     "output_type": "execute_result"
    }
   ],
   "source": [
    "# text와 text3의 유사도\n",
    "text_similarity(word_counter(text), word_counter(text3))"
   ]
  }
 ],
 "metadata": {
  "kernelspec": {
   "display_name": "Python 3",
   "language": "python",
   "name": "python3"
  },
  "language_info": {
   "codemirror_mode": {
    "name": "ipython",
    "version": 3
   },
   "file_extension": ".py",
   "mimetype": "text/x-python",
   "name": "python",
   "nbconvert_exporter": "python",
   "pygments_lexer": "ipython3",
   "version": "3.8.3"
  }
 },
 "nbformat": 4,
 "nbformat_minor": 4
}
